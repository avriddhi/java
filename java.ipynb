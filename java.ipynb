{
 "cells": [
  {
   "cell_type": "raw",
   "id": "b4afefee",
   "metadata": {},
   "source": [
    "Implement a stack using an array in Java. Include the necessary methods such as push, pop, and is Empty.\n",
    "We will create stack class having following methods Push method: Push method will be used to insert new element to stack. Pop method: Pop method will remove top element of stack. Size method: Size method will return current size of stack. isEmpty method: isEmpty method will check, whether stack contains any element. ..."
   ]
  },
  {
   "cell_type": "code",
   "execution_count": null,
   "id": "ff60c138",
   "metadata": {},
   "outputs": [],
   "source": [
    "Implement a queue using a linked list in Java. Include the necessary methods such as enqueue, dequeue, and is Empty.\n",
    "public class LinkedQueue<E> implements Queue<E> {\n",
    "   private int count;\n",
    "   private Node<E> front, rear;\n",
    "\n",
    "   public LinkedQueue() {\n",
    "      count = 0;\n",
    "      front = rear = null;\n",
    "   }\n",
    "\n",
    "   public void enqueue (E element) {\n",
    "      Node<E> node = new Node<E> ();\n",
    "\n",
    "      if (isEmpty())\n",
    "         front = node;\n",
    "      else\n",
    "         rear.setNext (node);\n",
    "\n",
    "      rear = node;\n",
    "      count++;\n",
    "   }\n",
    "\n",
    "   public E dequeue() throws QueueEmptyException {\n",
    "      if (isEmpty())\n",
    "         throw new QueueEmptyException  (\"queue\");\n",
    "\n",
    "      E result = front.getElement();\n",
    "      front = front.getNext();\n",
    "      count--;\n",
    "\n",
    "      if (isEmpty())\n",
    "         rear = null;\n",
    "\n",
    "      return result;\n",
    "\n",
    "   }\n",
    "\n",
    "   public E first() throws QueueEmptyException {\n",
    "      if (isEmpty())\n",
    "         throw new QueueEmptyException (\"queue\"); \n",
    "\n",
    "      return front.getElement();\n",
    "   }\n",
    "\n",
    "\n",
    "   public boolean isEmpty() {\n",
    "      return (front == rear);\n",
    "   }\n",
    "\n",
    "\n",
    "   public int size() {\n",
    "      return count;\n",
    "   }\n",
    "\n",
    "\n",
    "    public E front() throws QueueEmptyException {       \n",
    "        if (isEmpty())\n",
    "            throw new QueueEmptyException(\"Queue underflow.\");\n",
    "        return (E) front.getNext();\n",
    "    }\n",
    "}"
   ]
  },
  {
   "cell_type": "code",
   "execution_count": null,
   "id": "9b5eac22",
   "metadata": {},
   "outputs": [],
   "source": [
    "nsert (): Adds an item to the queue\n",
    "delete (): Remove an item from queue\n",
    "size (): Return the number of items the queue contains right now\n",
    "isEmpty (): Returns true if queue is empty, false otherwise\n",
    "Alternatively, you can create a queue using the java.util.Queue interface"
   ]
  }
 ],
 "metadata": {
  "kernelspec": {
   "display_name": "Python 3 (ipykernel)",
   "language": "python",
   "name": "python3"
  },
  "language_info": {
   "codemirror_mode": {
    "name": "ipython",
    "version": 3
   },
   "file_extension": ".py",
   "mimetype": "text/x-python",
   "name": "python",
   "nbconvert_exporter": "python",
   "pygments_lexer": "ipython3",
   "version": "3.10.9"
  }
 },
 "nbformat": 4,
 "nbformat_minor": 5
}
